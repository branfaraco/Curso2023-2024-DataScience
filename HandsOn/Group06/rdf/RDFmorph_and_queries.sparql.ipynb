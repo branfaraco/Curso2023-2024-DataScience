{
  "nbformat": 4,
  "nbformat_minor": 0,
  "metadata": {
    "colab": {
      "provenance": []
    },
    "kernelspec": {
      "name": "python3",
      "display_name": "Python 3"
    },
    "language_info": {
      "name": "python"
    }
  },
  "cells": [
    {
      "cell_type": "markdown",
      "source": [
        "# **CREACION** **DE** **RDF**\n"
      ],
      "metadata": {
        "id": "lnYXU8WB4E7x"
      }
    },
    {
      "cell_type": "code",
      "execution_count": 1,
      "metadata": {
        "colab": {
          "base_uri": "https://localhost:8080/"
        },
        "id": "F3LATp3oomLF",
        "outputId": "be7279f8-1054-4dd9-b1d6-738e87e2c47d"
      },
      "outputs": [
        {
          "output_type": "stream",
          "name": "stdout",
          "text": [
            "Collecting morph-kgc\n",
            "  Downloading morph_kgc-2.6.4-py3-none-any.whl (53 kB)\n",
            "\u001b[2K     \u001b[90m━━━━━━━━━━━━━━━━━━━━━━━━━━━━━━━━━━━━━━━━\u001b[0m \u001b[32m53.3/53.3 kB\u001b[0m \u001b[31m2.3 MB/s\u001b[0m eta \u001b[36m0:00:00\u001b[0m\n",
            "\u001b[?25hCollecting duckdb<0.8.0,>=0.7.0 (from morph-kgc)\n",
            "  Downloading duckdb-0.7.1-cp310-cp310-manylinux_2_17_x86_64.manylinux2014_x86_64.whl (15.2 MB)\n",
            "\u001b[2K     \u001b[90m━━━━━━━━━━━━━━━━━━━━━━━━━━━━━━━━━━━━━━━━\u001b[0m \u001b[32m15.2/15.2 MB\u001b[0m \u001b[31m86.3 MB/s\u001b[0m eta \u001b[36m0:00:00\u001b[0m\n",
            "\u001b[?25hCollecting elementpath<5.0.0,>=4.0.0 (from morph-kgc)\n",
            "  Downloading elementpath-4.1.5-py3-none-any.whl (216 kB)\n",
            "\u001b[2K     \u001b[90m━━━━━━━━━━━━━━━━━━━━━━━━━━━━━━━━━━━━━━━━\u001b[0m \u001b[32m216.4/216.4 kB\u001b[0m \u001b[31m28.1 MB/s\u001b[0m eta \u001b[36m0:00:00\u001b[0m\n",
            "\u001b[?25hCollecting falcon<4.0.0,>=3.0.0 (from morph-kgc)\n",
            "  Downloading falcon-3.1.1-cp310-cp310-manylinux_2_5_x86_64.manylinux1_x86_64.manylinux_2_17_x86_64.manylinux2014_x86_64.whl (8.2 MB)\n",
            "\u001b[2K     \u001b[90m━━━━━━━━━━━━━━━━━━━━━━━━━━━━━━━━━━━━━━━━\u001b[0m \u001b[32m8.2/8.2 MB\u001b[0m \u001b[31m91.2 MB/s\u001b[0m eta \u001b[36m0:00:00\u001b[0m\n",
            "\u001b[?25hCollecting jsonpath-python<2.0.0,>=1.0.6 (from morph-kgc)\n",
            "  Downloading jsonpath_python-1.0.6-py3-none-any.whl (7.6 kB)\n",
            "Collecting pandas<3.0.0,>=2.0.0 (from morph-kgc)\n",
            "  Downloading pandas-2.1.3-cp310-cp310-manylinux_2_17_x86_64.manylinux2014_x86_64.whl (12.3 MB)\n",
            "\u001b[2K     \u001b[90m━━━━━━━━━━━━━━━━━━━━━━━━━━━━━━━━━━━━━━━━\u001b[0m \u001b[32m12.3/12.3 MB\u001b[0m \u001b[31m138.4 MB/s\u001b[0m eta \u001b[36m0:00:00\u001b[0m\n",
            "\u001b[?25hCollecting pyoxigraph<0.4.0,>=0.3.0 (from morph-kgc)\n",
            "  Downloading pyoxigraph-0.3.20-cp310-cp310-manylinux_2_17_x86_64.manylinux2014_x86_64.whl (6.8 MB)\n",
            "\u001b[2K     \u001b[90m━━━━━━━━━━━━━━━━━━━━━━━━━━━━━━━━━━━━━━━━\u001b[0m \u001b[32m6.8/6.8 MB\u001b[0m \u001b[31m87.3 MB/s\u001b[0m eta \u001b[36m0:00:00\u001b[0m\n",
            "\u001b[?25hCollecting rdflib<8.0.0,>=6.1.1 (from morph-kgc)\n",
            "  Downloading rdflib-7.0.0-py3-none-any.whl (531 kB)\n",
            "\u001b[2K     \u001b[90m━━━━━━━━━━━━━━━━━━━━━━━━━━━━━━━━━━━━━━━━\u001b[0m \u001b[32m531.9/531.9 kB\u001b[0m \u001b[31m59.9 MB/s\u001b[0m eta \u001b[36m0:00:00\u001b[0m\n",
            "\u001b[?25hCollecting ruamel-yaml<0.19.0,==0.18.0 (from morph-kgc)\n",
            "  Downloading ruamel.yaml-0.18.0-py3-none-any.whl (113 kB)\n",
            "\u001b[2K     \u001b[90m━━━━━━━━━━━━━━━━━━━━━━━━━━━━━━━━━━━━━━━━\u001b[0m \u001b[32m113.4/113.4 kB\u001b[0m \u001b[31m17.0 MB/s\u001b[0m eta \u001b[36m0:00:00\u001b[0m\n",
            "\u001b[?25hCollecting sql-metadata<3.0.0,>=2.6.0 (from morph-kgc)\n",
            "  Downloading sql_metadata-2.10.0-py3-none-any.whl (22 kB)\n",
            "Requirement already satisfied: sqlalchemy<3.0.0,>=2.0.0 in /usr/local/lib/python3.10/dist-packages (from morph-kgc) (2.0.23)\n",
            "Collecting ruamel.yaml.clib>=0.2.7 (from ruamel-yaml<0.19.0,==0.18.0->morph-kgc)\n",
            "  Downloading ruamel.yaml.clib-0.2.8-cp310-cp310-manylinux_2_17_x86_64.manylinux2014_x86_64.manylinux_2_24_x86_64.whl (526 kB)\n",
            "\u001b[2K     \u001b[90m━━━━━━━━━━━━━━━━━━━━━━━━━━━━━━━━━━━━━━━━\u001b[0m \u001b[32m526.7/526.7 kB\u001b[0m \u001b[31m56.1 MB/s\u001b[0m eta \u001b[36m0:00:00\u001b[0m\n",
            "\u001b[?25hRequirement already satisfied: numpy<2,>=1.22.4 in /usr/local/lib/python3.10/dist-packages (from pandas<3.0.0,>=2.0.0->morph-kgc) (1.23.5)\n",
            "Requirement already satisfied: python-dateutil>=2.8.2 in /usr/local/lib/python3.10/dist-packages (from pandas<3.0.0,>=2.0.0->morph-kgc) (2.8.2)\n",
            "Requirement already satisfied: pytz>=2020.1 in /usr/local/lib/python3.10/dist-packages (from pandas<3.0.0,>=2.0.0->morph-kgc) (2023.3.post1)\n",
            "Collecting tzdata>=2022.1 (from pandas<3.0.0,>=2.0.0->morph-kgc)\n",
            "  Downloading tzdata-2023.3-py2.py3-none-any.whl (341 kB)\n",
            "\u001b[2K     \u001b[90m━━━━━━━━━━━━━━━━━━━━━━━━━━━━━━━━━━━━━━━━\u001b[0m \u001b[32m341.8/341.8 kB\u001b[0m \u001b[31m33.3 MB/s\u001b[0m eta \u001b[36m0:00:00\u001b[0m\n",
            "\u001b[?25hCollecting isodate<0.7.0,>=0.6.0 (from rdflib<8.0.0,>=6.1.1->morph-kgc)\n",
            "  Downloading isodate-0.6.1-py2.py3-none-any.whl (41 kB)\n",
            "\u001b[2K     \u001b[90m━━━━━━━━━━━━━━━━━━━━━━━━━━━━━━━━━━━━━━━━\u001b[0m \u001b[32m41.7/41.7 kB\u001b[0m \u001b[31m5.6 MB/s\u001b[0m eta \u001b[36m0:00:00\u001b[0m\n",
            "\u001b[?25hRequirement already satisfied: pyparsing<4,>=2.1.0 in /usr/local/lib/python3.10/dist-packages (from rdflib<8.0.0,>=6.1.1->morph-kgc) (3.1.1)\n",
            "Requirement already satisfied: sqlparse<0.5.0,>=0.4.1 in /usr/local/lib/python3.10/dist-packages (from sql-metadata<3.0.0,>=2.6.0->morph-kgc) (0.4.4)\n",
            "Requirement already satisfied: typing-extensions>=4.2.0 in /usr/local/lib/python3.10/dist-packages (from sqlalchemy<3.0.0,>=2.0.0->morph-kgc) (4.5.0)\n",
            "Requirement already satisfied: greenlet!=0.4.17 in /usr/local/lib/python3.10/dist-packages (from sqlalchemy<3.0.0,>=2.0.0->morph-kgc) (3.0.1)\n",
            "Requirement already satisfied: six in /usr/local/lib/python3.10/dist-packages (from isodate<0.7.0,>=0.6.0->rdflib<8.0.0,>=6.1.1->morph-kgc) (1.16.0)\n",
            "Installing collected packages: duckdb, tzdata, sql-metadata, ruamel.yaml.clib, pyoxigraph, jsonpath-python, isodate, falcon, elementpath, ruamel-yaml, rdflib, pandas, morph-kgc\n",
            "  Attempting uninstall: duckdb\n",
            "    Found existing installation: duckdb 0.9.2\n",
            "    Uninstalling duckdb-0.9.2:\n",
            "      Successfully uninstalled duckdb-0.9.2\n",
            "  Attempting uninstall: pandas\n",
            "    Found existing installation: pandas 1.5.3\n",
            "    Uninstalling pandas-1.5.3:\n",
            "      Successfully uninstalled pandas-1.5.3\n",
            "\u001b[31mERROR: pip's dependency resolver does not currently take into account all the packages that are installed. This behaviour is the source of the following dependency conflicts.\n",
            "lida 0.0.10 requires fastapi, which is not installed.\n",
            "lida 0.0.10 requires kaleido, which is not installed.\n",
            "lida 0.0.10 requires python-multipart, which is not installed.\n",
            "lida 0.0.10 requires uvicorn, which is not installed.\n",
            "google-colab 1.0.0 requires pandas==1.5.3, but you have pandas 2.1.3 which is incompatible.\n",
            "malloy 2023.1064 requires duckdb<1.0.0,>=0.8.0, but you have duckdb 0.7.1 which is incompatible.\u001b[0m\u001b[31m\n",
            "\u001b[0mSuccessfully installed duckdb-0.7.1 elementpath-4.1.5 falcon-3.1.1 isodate-0.6.1 jsonpath-python-1.0.6 morph-kgc-2.6.4 pandas-2.1.3 pyoxigraph-0.3.20 rdflib-7.0.0 ruamel-yaml-0.18.0 ruamel.yaml.clib-0.2.8 sql-metadata-2.10.0 tzdata-2023.3\n"
          ]
        }
      ],
      "source": [
        "!pip install morph-kgc"
      ]
    },
    {
      "cell_type": "code",
      "source": [
        "import morph_kgc"
      ],
      "metadata": {
        "id": "-8y_L4Vfo7ku"
      },
      "execution_count": 2,
      "outputs": []
    },
    {
      "cell_type": "code",
      "source": [
        "from google.colab import drive\n",
        "drive.mount('/content/drive')"
      ],
      "metadata": {
        "colab": {
          "base_uri": "https://localhost:8080/"
        },
        "id": "bnrJRASTt_iG",
        "outputId": "5cc29d8b-1071-41fd-8085-198b46e3c12d"
      },
      "execution_count": 3,
      "outputs": [
        {
          "output_type": "stream",
          "name": "stdout",
          "text": [
            "Mounted at /content/drive\n"
          ]
        }
      ]
    },
    {
      "cell_type": "code",
      "source": [
        "config1=\"\"\"\n",
        "          [/content/drive/MyDrive/hands_on_mapping/parking-paris-limpio.csv]\n",
        "          mappings: /content/drive/MyDrive/hands_on_mapping/mapeo_parking.rml.ttl\n",
        "       \"\"\"\n",
        "config2=\"\"\"\n",
        "          [/content/drive/MyDrive/hands_on_mapping/adresse-paris-updated.csv]\n",
        "          mappings: /content/drive/MyDrive/hands_on_mapping/mapeo_streets.rml.ttl\n",
        "       \"\"\""
      ],
      "metadata": {
        "id": "_6ECpWRfplFt"
      },
      "execution_count": 4,
      "outputs": []
    },
    {
      "cell_type": "code",
      "source": [
        "g1 = morph_kgc.materialize(config1)\n",
        "g2 = morph_kgc.materialize(config2)\n",
        "g = g1 +g2"
      ],
      "metadata": {
        "colab": {
          "base_uri": "https://localhost:8080/"
        },
        "id": "d6R2ix2BtQnu",
        "outputId": "0c7bd321-a837-496f-fb00-7c796c89d53d"
      },
      "execution_count": 5,
      "outputs": [
        {
          "output_type": "stream",
          "name": "stderr",
          "text": [
            "/usr/local/lib/python3.10/dist-packages/morph_kgc/mapping/mapping_parser.py:390: FutureWarning: DataFrame.applymap has been deprecated. Use DataFrame.map instead.\n",
            "  fnml_df = fnml_df.applymap(str)\n",
            "/usr/local/lib/python3.10/dist-packages/morph_kgc/mapping/mapping_partitioner.py:182: FutureWarning: Series.__getitem__ treating keys as positions is deprecated. In a future version, integer keys will always be treated as labels (consistent with DataFrame behavior). To access a value by position, use `ser.iloc[pos]`\n",
            "  f\"{self.rml_df['mapping_partition'].value_counts()[0]}.\")\n",
            "/usr/local/lib/python3.10/dist-packages/morph_kgc/materializer.py:36: FutureWarning: DataFrame.applymap has been deprecated. Use DataFrame.map instead.\n",
            "  data = data.applymap(str)\n",
            "/usr/local/lib/python3.10/dist-packages/morph_kgc/materializer.py:36: FutureWarning: DataFrame.applymap has been deprecated. Use DataFrame.map instead.\n",
            "  data = data.applymap(str)\n",
            "/usr/local/lib/python3.10/dist-packages/morph_kgc/materializer.py:36: FutureWarning: DataFrame.applymap has been deprecated. Use DataFrame.map instead.\n",
            "  data = data.applymap(str)\n",
            "/usr/local/lib/python3.10/dist-packages/morph_kgc/materializer.py:36: FutureWarning: DataFrame.applymap has been deprecated. Use DataFrame.map instead.\n",
            "  data = data.applymap(str)\n",
            "/usr/local/lib/python3.10/dist-packages/morph_kgc/materializer.py:36: FutureWarning: DataFrame.applymap has been deprecated. Use DataFrame.map instead.\n",
            "  data = data.applymap(str)\n",
            "/usr/local/lib/python3.10/dist-packages/morph_kgc/materializer.py:36: FutureWarning: DataFrame.applymap has been deprecated. Use DataFrame.map instead.\n",
            "  data = data.applymap(str)\n",
            "/usr/local/lib/python3.10/dist-packages/morph_kgc/materializer.py:36: FutureWarning: DataFrame.applymap has been deprecated. Use DataFrame.map instead.\n",
            "  data = data.applymap(str)\n",
            "/usr/local/lib/python3.10/dist-packages/morph_kgc/materializer.py:36: FutureWarning: DataFrame.applymap has been deprecated. Use DataFrame.map instead.\n",
            "  data = data.applymap(str)\n",
            "/usr/local/lib/python3.10/dist-packages/morph_kgc/materializer.py:36: FutureWarning: DataFrame.applymap has been deprecated. Use DataFrame.map instead.\n",
            "  data = data.applymap(str)\n",
            "/usr/local/lib/python3.10/dist-packages/morph_kgc/materializer.py:36: FutureWarning: DataFrame.applymap has been deprecated. Use DataFrame.map instead.\n",
            "  data = data.applymap(str)\n",
            "/usr/local/lib/python3.10/dist-packages/morph_kgc/materializer.py:36: FutureWarning: DataFrame.applymap has been deprecated. Use DataFrame.map instead.\n",
            "  data = data.applymap(str)\n",
            "/usr/local/lib/python3.10/dist-packages/morph_kgc/materializer.py:36: FutureWarning: DataFrame.applymap has been deprecated. Use DataFrame.map instead.\n",
            "  data = data.applymap(str)\n",
            "/usr/local/lib/python3.10/dist-packages/morph_kgc/materializer.py:36: FutureWarning: DataFrame.applymap has been deprecated. Use DataFrame.map instead.\n",
            "  data = data.applymap(str)\n",
            "/usr/local/lib/python3.10/dist-packages/morph_kgc/materializer.py:36: FutureWarning: DataFrame.applymap has been deprecated. Use DataFrame.map instead.\n",
            "  data = data.applymap(str)\n",
            "/usr/local/lib/python3.10/dist-packages/morph_kgc/materializer.py:36: FutureWarning: DataFrame.applymap has been deprecated. Use DataFrame.map instead.\n",
            "  data = data.applymap(str)\n",
            "/usr/local/lib/python3.10/dist-packages/morph_kgc/materializer.py:36: FutureWarning: DataFrame.applymap has been deprecated. Use DataFrame.map instead.\n",
            "  data = data.applymap(str)\n",
            "/usr/local/lib/python3.10/dist-packages/morph_kgc/materializer.py:36: FutureWarning: DataFrame.applymap has been deprecated. Use DataFrame.map instead.\n",
            "  data = data.applymap(str)\n",
            "/usr/local/lib/python3.10/dist-packages/morph_kgc/materializer.py:36: FutureWarning: DataFrame.applymap has been deprecated. Use DataFrame.map instead.\n",
            "  data = data.applymap(str)\n",
            "/usr/local/lib/python3.10/dist-packages/morph_kgc/materializer.py:36: FutureWarning: DataFrame.applymap has been deprecated. Use DataFrame.map instead.\n",
            "  data = data.applymap(str)\n",
            "/usr/local/lib/python3.10/dist-packages/morph_kgc/materializer.py:36: FutureWarning: DataFrame.applymap has been deprecated. Use DataFrame.map instead.\n",
            "  data = data.applymap(str)\n",
            "/usr/local/lib/python3.10/dist-packages/morph_kgc/materializer.py:36: FutureWarning: DataFrame.applymap has been deprecated. Use DataFrame.map instead.\n",
            "  data = data.applymap(str)\n",
            "/usr/local/lib/python3.10/dist-packages/morph_kgc/materializer.py:36: FutureWarning: DataFrame.applymap has been deprecated. Use DataFrame.map instead.\n",
            "  data = data.applymap(str)\n",
            "/usr/local/lib/python3.10/dist-packages/morph_kgc/materializer.py:36: FutureWarning: DataFrame.applymap has been deprecated. Use DataFrame.map instead.\n",
            "  data = data.applymap(str)\n",
            "/usr/local/lib/python3.10/dist-packages/morph_kgc/materializer.py:36: FutureWarning: DataFrame.applymap has been deprecated. Use DataFrame.map instead.\n",
            "  data = data.applymap(str)\n",
            "/usr/local/lib/python3.10/dist-packages/morph_kgc/materializer.py:36: FutureWarning: DataFrame.applymap has been deprecated. Use DataFrame.map instead.\n",
            "  data = data.applymap(str)\n",
            "/usr/local/lib/python3.10/dist-packages/morph_kgc/materializer.py:36: FutureWarning: DataFrame.applymap has been deprecated. Use DataFrame.map instead.\n",
            "  data = data.applymap(str)\n",
            "/usr/local/lib/python3.10/dist-packages/morph_kgc/materializer.py:36: FutureWarning: DataFrame.applymap has been deprecated. Use DataFrame.map instead.\n",
            "  data = data.applymap(str)\n",
            "/usr/local/lib/python3.10/dist-packages/morph_kgc/materializer.py:36: FutureWarning: DataFrame.applymap has been deprecated. Use DataFrame.map instead.\n",
            "  data = data.applymap(str)\n",
            "/usr/local/lib/python3.10/dist-packages/morph_kgc/materializer.py:36: FutureWarning: DataFrame.applymap has been deprecated. Use DataFrame.map instead.\n",
            "  data = data.applymap(str)\n",
            "/usr/local/lib/python3.10/dist-packages/morph_kgc/materializer.py:36: FutureWarning: DataFrame.applymap has been deprecated. Use DataFrame.map instead.\n",
            "  data = data.applymap(str)\n",
            "/usr/local/lib/python3.10/dist-packages/morph_kgc/materializer.py:36: FutureWarning: DataFrame.applymap has been deprecated. Use DataFrame.map instead.\n",
            "  data = data.applymap(str)\n",
            "/usr/local/lib/python3.10/dist-packages/morph_kgc/materializer.py:36: FutureWarning: DataFrame.applymap has been deprecated. Use DataFrame.map instead.\n",
            "  data = data.applymap(str)\n",
            "/usr/local/lib/python3.10/dist-packages/morph_kgc/materializer.py:36: FutureWarning: DataFrame.applymap has been deprecated. Use DataFrame.map instead.\n",
            "  data = data.applymap(str)\n",
            "/usr/local/lib/python3.10/dist-packages/morph_kgc/materializer.py:36: FutureWarning: DataFrame.applymap has been deprecated. Use DataFrame.map instead.\n",
            "  data = data.applymap(str)\n",
            "/usr/local/lib/python3.10/dist-packages/morph_kgc/materializer.py:36: FutureWarning: DataFrame.applymap has been deprecated. Use DataFrame.map instead.\n",
            "  data = data.applymap(str)\n",
            "/usr/local/lib/python3.10/dist-packages/morph_kgc/materializer.py:36: FutureWarning: DataFrame.applymap has been deprecated. Use DataFrame.map instead.\n",
            "  data = data.applymap(str)\n",
            "/usr/local/lib/python3.10/dist-packages/morph_kgc/materializer.py:36: FutureWarning: DataFrame.applymap has been deprecated. Use DataFrame.map instead.\n",
            "  data = data.applymap(str)\n",
            "/usr/local/lib/python3.10/dist-packages/morph_kgc/materializer.py:36: FutureWarning: DataFrame.applymap has been deprecated. Use DataFrame.map instead.\n",
            "  data = data.applymap(str)\n",
            "/usr/local/lib/python3.10/dist-packages/morph_kgc/materializer.py:36: FutureWarning: DataFrame.applymap has been deprecated. Use DataFrame.map instead.\n",
            "  data = data.applymap(str)\n",
            "/usr/local/lib/python3.10/dist-packages/morph_kgc/materializer.py:36: FutureWarning: DataFrame.applymap has been deprecated. Use DataFrame.map instead.\n",
            "  data = data.applymap(str)\n",
            "/usr/local/lib/python3.10/dist-packages/morph_kgc/materializer.py:36: FutureWarning: DataFrame.applymap has been deprecated. Use DataFrame.map instead.\n",
            "  data = data.applymap(str)\n",
            "/usr/local/lib/python3.10/dist-packages/morph_kgc/materializer.py:36: FutureWarning: DataFrame.applymap has been deprecated. Use DataFrame.map instead.\n",
            "  data = data.applymap(str)\n",
            "/usr/local/lib/python3.10/dist-packages/morph_kgc/materializer.py:36: FutureWarning: DataFrame.applymap has been deprecated. Use DataFrame.map instead.\n",
            "  data = data.applymap(str)\n",
            "/usr/local/lib/python3.10/dist-packages/morph_kgc/materializer.py:36: FutureWarning: DataFrame.applymap has been deprecated. Use DataFrame.map instead.\n",
            "  data = data.applymap(str)\n",
            "/usr/local/lib/python3.10/dist-packages/morph_kgc/materializer.py:36: FutureWarning: DataFrame.applymap has been deprecated. Use DataFrame.map instead.\n",
            "  data = data.applymap(str)\n",
            "/usr/local/lib/python3.10/dist-packages/morph_kgc/materializer.py:36: FutureWarning: DataFrame.applymap has been deprecated. Use DataFrame.map instead.\n",
            "  data = data.applymap(str)\n",
            "/usr/local/lib/python3.10/dist-packages/morph_kgc/materializer.py:36: FutureWarning: DataFrame.applymap has been deprecated. Use DataFrame.map instead.\n",
            "  data = data.applymap(str)\n",
            "/usr/local/lib/python3.10/dist-packages/morph_kgc/mapping/mapping_parser.py:390: FutureWarning: DataFrame.applymap has been deprecated. Use DataFrame.map instead.\n",
            "  fnml_df = fnml_df.applymap(str)\n",
            "/usr/local/lib/python3.10/dist-packages/morph_kgc/mapping/mapping_partitioner.py:182: FutureWarning: Series.__getitem__ treating keys as positions is deprecated. In a future version, integer keys will always be treated as labels (consistent with DataFrame behavior). To access a value by position, use `ser.iloc[pos]`\n",
            "  f\"{self.rml_df['mapping_partition'].value_counts()[0]}.\")\n",
            "/usr/local/lib/python3.10/dist-packages/morph_kgc/materializer.py:36: FutureWarning: DataFrame.applymap has been deprecated. Use DataFrame.map instead.\n",
            "  data = data.applymap(str)\n",
            "/usr/local/lib/python3.10/dist-packages/morph_kgc/materializer.py:36: FutureWarning: DataFrame.applymap has been deprecated. Use DataFrame.map instead.\n",
            "  data = data.applymap(str)\n",
            "/usr/local/lib/python3.10/dist-packages/morph_kgc/materializer.py:36: FutureWarning: DataFrame.applymap has been deprecated. Use DataFrame.map instead.\n",
            "  data = data.applymap(str)\n",
            "/usr/local/lib/python3.10/dist-packages/morph_kgc/materializer.py:36: FutureWarning: DataFrame.applymap has been deprecated. Use DataFrame.map instead.\n",
            "  data = data.applymap(str)\n",
            "/usr/local/lib/python3.10/dist-packages/morph_kgc/materializer.py:36: FutureWarning: DataFrame.applymap has been deprecated. Use DataFrame.map instead.\n",
            "  data = data.applymap(str)\n",
            "/usr/local/lib/python3.10/dist-packages/morph_kgc/materializer.py:36: FutureWarning: DataFrame.applymap has been deprecated. Use DataFrame.map instead.\n",
            "  data = data.applymap(str)\n",
            "/usr/local/lib/python3.10/dist-packages/morph_kgc/materializer.py:36: FutureWarning: DataFrame.applymap has been deprecated. Use DataFrame.map instead.\n",
            "  data = data.applymap(str)\n"
          ]
        }
      ]
    },
    {
      "cell_type": "code",
      "source": [
        "v1 = g1.serialize(destination='/content/drive/MyDrive/hands_on_mapping/parkingsRDF.ttl', format=\"ttl\")\n",
        "v2 = g2.serialize(destination='/content/drive/MyDrive/hands_on_mapping/streetsRDF.ttl', format=\"ttl\")\n",
        "v = g.serialize(destination='/content/drive/MyDrive/hands_on_mapping/combinedRDF.ttl', format=\"ttl\")\n",
        "v"
      ],
      "metadata": {
        "colab": {
          "base_uri": "https://localhost:8080/"
        },
        "id": "k7eUT3C6tdfH",
        "outputId": "58670fdc-3034-45df-82a0-e4b084a0443c"
      },
      "execution_count": 6,
      "outputs": [
        {
          "output_type": "execute_result",
          "data": {
            "text/plain": [
              "<Graph identifier=Ne2287aeda4a9435eacc74993fc904c0e (<class 'rdflib.graph.Graph'>)>"
            ]
          },
          "metadata": {},
          "execution_count": 6
        }
      ]
    },
    {
      "cell_type": "markdown",
      "source": [
        "# **QUERYS**"
      ],
      "metadata": {
        "id": "-LBTYJ0qLAuB"
      }
    },
    {
      "cell_type": "code",
      "source": [
        "from rdflib import Graph, Namespace, RDF, RDFS\n",
        "from rdflib.plugins.sparql import prepareQuery\n",
        "\n",
        "ns = Namespace(\"http://paris.linkeddata.es/parkings/resource/ont1#\")\n",
        "ns2 = Namespace('http://paris.linkeddata.es/streets/resource/ont1#')\n",
        "\n",
        "geo = Namespace(\"http://www.w3.org/2003/01/geo/wgs84_pos#\")\n",
        "\n"
      ],
      "metadata": {
        "id": "rqNkHnMtINfL"
      },
      "execution_count": 7,
      "outputs": []
    },
    {
      "cell_type": "markdown",
      "source": [
        "### 1. ¿CUANTOS PARKINGS HAY EN TOTAL?"
      ],
      "metadata": {
        "id": "rX5m1oYTRJIM"
      }
    },
    {
      "cell_type": "code",
      "source": [
        "q1 = prepareQuery('''\n",
        "    SELECT (COUNT(?parking) AS ?count)\n",
        "    WHERE {\n",
        "      ?parking rdf:type ns:Parking .\n",
        "    }\n",
        "''',\n",
        "initNs={\"rdf\": RDF, \"ns\": ns})\n",
        "\n",
        "\n",
        "for s in g.query(q1):\n",
        "    count = s['count']\n",
        "    print(count)"
      ],
      "metadata": {
        "colab": {
          "base_uri": "https://localhost:8080/"
        },
        "id": "JePhUTD6b7pG",
        "outputId": "39884b77-c869-4751-f314-21c88ed20293"
      },
      "execution_count": 8,
      "outputs": [
        {
          "output_type": "stream",
          "name": "stdout",
          "text": [
            "126\n"
          ]
        }
      ]
    },
    {
      "cell_type": "markdown",
      "source": [
        "### 2. ¿QUÉ PARKINGS HAY EN EL DISTRITO 8?"
      ],
      "metadata": {
        "id": "IQZMDgz6nU22"
      }
    },
    {
      "cell_type": "code",
      "source": [
        "q2 = prepareQuery('''\n",
        "    SELECT ?name ?parking WHERE {\n",
        "      ?parking rdf:type ns:Parking ;\n",
        "               ns:isinDistrict ?district ;\n",
        "               ns:hasName ?name .\n",
        "      ?district ns:idDistrict 8 .\n",
        "    }\n",
        "''',\n",
        "initNs={\"rdf\": RDF, \"ns\": ns})\n",
        "\n",
        "for s in g.query(q2):\n",
        "    name = s['name']\n",
        "    parking_uri = s['parking']\n",
        "    print(f\"{name}: {parking_uri}\")"
      ],
      "metadata": {
        "id": "C1ZisiklPSrd",
        "colab": {
          "base_uri": "https://localhost:8080/"
        },
        "outputId": "9aa225a8-0e6f-4810-b71b-798d4d7cafbc"
      },
      "execution_count": null,
      "outputs": [
        {
          "output_type": "stream",
          "name": "stdout",
          "text": [
            "CHAMPS ELYSEES: http://paris.linkeddata.es/parkings/resource/parking/75108-P-107\n",
            "CHAMPS ELYSEES PIERRE CHARRON: http://paris.linkeddata.es/parkings/resource/parking/75108-P-125\n",
            "CONCORDE: http://paris.linkeddata.es/parkings/resource/parking/75108-P-024\n",
            "ALMA GEORGE V: http://paris.linkeddata.es/parkings/resource/parking/75108-P-110\n",
            "ETOILE FRIEDLAND: http://paris.linkeddata.es/parkings/resource/parking/75108-P-109\n",
            "HAUSSMANN BERRI: http://paris.linkeddata.es/parkings/resource/parking/75108-P-031\n",
            "MADELEINE TRONCHET: http://paris.linkeddata.es/parkings/resource/parking/75108-P-030\n",
            "FRANCOIS 1ER: http://paris.linkeddata.es/parkings/resource/parking/75108-P-054\n",
            "HOCHE: http://paris.linkeddata.es/parkings/resource/parking/75108-P-015\n",
            "SAINT AUGUSTIN: http://paris.linkeddata.es/parkings/resource/parking/75108-P-014\n",
            "MALESHERBES ANJOU: http://paris.linkeddata.es/parkings/resource/parking/75108-P-002\n",
            "ROND POINT (GARAGE): http://paris.linkeddata.es/parkings/resource/parking/75108-P-159\n",
            "GEORGE V: http://paris.linkeddata.es/parkings/resource/parking/75108-P-020\n",
            "ROND POINT DES CHAMPS ELYSEES: http://paris.linkeddata.es/parkings/resource/parking/75108-P-061\n"
          ]
        }
      ]
    },
    {
      "cell_type": "markdown",
      "source": [
        "### 3. ¿CUÁLES SON LOS 5 DISTRITOS CON MÁS PARKINGS?"
      ],
      "metadata": {
        "id": "AIZNdoW-kPex"
      }
    },
    {
      "cell_type": "code",
      "source": [
        "q3 = prepareQuery('''\n",
        "    SELECT ?id (COUNT(?parking) AS ?count)\n",
        "    WHERE {\n",
        "       ?parking rdf:type ns:Parking ;\n",
        "                ns:isinDistrict ?district .\n",
        "       ?district ns:idDistrict ?id.\n",
        "    }\n",
        "    GROUP BY ?district\n",
        "    ORDER BY DESC(?count)\n",
        "    LIMIT 5\n",
        "''',\n",
        "initNs={\"rdf\": RDF, \"ns\": ns})\n",
        "\n",
        "for s in g.query(q3):\n",
        "    district = s['id']\n",
        "    count = s['count']\n",
        "    print(f'District {district}:  {count} parkings')\n",
        "\n"
      ],
      "metadata": {
        "id": "0QDHJuY9bBzJ",
        "colab": {
          "base_uri": "https://localhost:8080/"
        },
        "outputId": "8caa7db7-8b6a-48d6-bbde-4a9d47e86d4c"
      },
      "execution_count": null,
      "outputs": [
        {
          "output_type": "stream",
          "name": "stdout",
          "text": [
            "District 17:  14 parkings\n",
            "District 8:  14 parkings\n",
            "District 16:  13 parkings\n",
            "District 12:  12 parkings\n",
            "District 6:  10 parkings\n"
          ]
        }
      ]
    },
    {
      "cell_type": "markdown",
      "source": [
        "### 4. DEVOLVER EL NOMBRE DEL PARKING Y EL TELÉFONO CORRESPONDIENTE, DADA UNA 'ServiceUrl'."
      ],
      "metadata": {
        "id": "rcYAMti6o_l4"
      }
    },
    {
      "cell_type": "code",
      "source": [
        "q4 = prepareQuery('''\n",
        "        SELECT ?c ?name ?phone\n",
        "        WHERE {\n",
        "            ?p a ns:Parking.\n",
        "            ?c ns:ServiceUrl 'https://www.saemes.fr/fr/parking/parking-marcadet'.\n",
        "            ?p ns:canBeContactedWith ?c.\n",
        "            ?c ns:hasPhoneNumber ?phone.\n",
        "            ?p ns:hasName ?name.\n",
        "         }\n",
        "  ''',\n",
        "  initNs = {\"ns\": ns}\n",
        ")\n",
        "\n",
        "for s in g.query(q4):\n",
        " print(f'Parking:{s.name}, Phone = {s.phone}')"
      ],
      "metadata": {
        "id": "tvikWEJAhcNr",
        "colab": {
          "base_uri": "https://localhost:8080/"
        },
        "outputId": "9b4e5ffa-ef74-4ae5-ce32-63febcc59409"
      },
      "execution_count": null,
      "outputs": [
        {
          "output_type": "stream",
          "name": "stdout",
          "text": [
            "Parking:MARCADET, Phone = 144829999\n"
          ]
        }
      ]
    },
    {
      "cell_type": "markdown",
      "source": [
        "### 5. ¿EN QUÉ PARKINGS PUEDEN ENTRAR VEHÍCULOS DE MÁS DE 2M DE ALTURA?"
      ],
      "metadata": {
        "id": "2cFWsxFTs8aL"
      }
    },
    {
      "cell_type": "code",
      "source": [
        "q5 = prepareQuery('''\n",
        "        SELECT ?name ?height ?id ?tname\n",
        "        WHERE {\n",
        "            ?p a ns:Parking;\n",
        "              ns:isinDistrict ?d;\n",
        "              ns:isinThoroughfare ?t.\n",
        "            ?d ns:idDistrict ?id.\n",
        "            ?t ns:hasName ?tname.\n",
        "            ?p ns:hasName ?name.\n",
        "            ?p ns:hasMaxHeight ?height.\n",
        "            FILTER (?height >= 200)\n",
        "         }\n",
        "  ''',\n",
        "  initNs = {\"ns\": ns}\n",
        ")\n",
        "\n",
        "for s in g.query(q5):\n",
        " print(f'-Parking: {s.name}\\nHeight:{s.height}, District {s.id}, Thoroughfare: {s.tname}\\n')"
      ],
      "metadata": {
        "id": "AoWVJZ4MbRLg",
        "colab": {
          "base_uri": "https://localhost:8080/"
        },
        "outputId": "14609747-84dc-4e2e-8bc2-6af98030805e"
      },
      "execution_count": null,
      "outputs": [
        {
          "output_type": "stream",
          "name": "stdout",
          "text": [
            "-Parking: DAMREMONT\n",
            "Height:220, District 18, Thoroughfare: rue damremont\n",
            "\n",
            "-Parking: HECTOR MALOT\n",
            "Height:200, District 12, Thoroughfare: avenue daumesnil\n",
            "\n",
            "-Parking: VELOSTATION GARE MONTPARNASSE\n",
            "Height:230, District 15, Thoroughfare: rue de l arrivee\n",
            "\n",
            "-Parking: MARCADET\n",
            "Height:200, District 18, Thoroughfare: rue marcadet\n",
            "\n",
            "-Parking: REUILLY DIDEROT\n",
            "Height:350, District 12, Thoroughfare: rue de reuilly\n",
            "\n",
            "-Parking: PEREIRE\n",
            "Height:200, District 17, Thoroughfare: boulevard pereire\n",
            "\n",
            "-Parking: VAN GOGH\n",
            "Height:260, District 12, Thoroughfare: rue de bercy\n",
            "\n",
            "-Parking: VELOSTATION VAN GOGH\n",
            "Height:230, District 12, Thoroughfare: rue van gogh\n",
            "\n",
            "-Parking: RECOLLETS\n",
            "Height:200, District 10, Thoroughfare: passage des recollets\n",
            "\n"
          ]
        }
      ]
    },
    {
      "cell_type": "markdown",
      "source": [
        "### 6. Devuelve los parkings con puntos de recarga eléctrica, junto a su capacidad y sus coordenadas."
      ],
      "metadata": {
        "id": "_YyXijzXpPzl"
      }
    },
    {
      "cell_type": "code",
      "source": [
        "q6 = prepareQuery('''\n",
        "    SELECT ?name ?electricCapacity ?lat ?long WHERE {\n",
        "       ?parking rdf:type ns:Parking ;\n",
        "                ns:hasName ?name ;\n",
        "                ns:hasElectricCapacity ?electricCapacity ;\n",
        "                ns:hasGeoPoint ?geoPoint .\n",
        "       ?geoPoint geo:lat ?lat ;\n",
        "                 geo:long ?long .\n",
        "       FILTER (?electricCapacity > 0)\n",
        "    }\n",
        "''',\n",
        "initNs={\"rdf\": RDF, \"ns\": ns, \"geo\": geo})\n",
        "\n",
        "\n",
        "total_parkings = len(g.query(q6))\n",
        "print(f'TOTAL DE PARKINGS CON electricCapacity: {total_parkings}\\n')\n",
        "\n",
        "for s in g.query(q6):\n",
        "    print(f\"-{s.name}: {s.electricCapacity}\\n    Geo: ({s.lat}, {s.long})\\n\")\n",
        "\n"
      ],
      "metadata": {
        "colab": {
          "base_uri": "https://localhost:8080/"
        },
        "id": "zm4IhZ9iE8Q0",
        "outputId": "b6aa7ff6-746a-46b3-9de8-0fb4ac7de4e0"
      },
      "execution_count": 9,
      "outputs": [
        {
          "output_type": "stream",
          "name": "stdout",
          "text": [
            "TOTAL DE PARKINGS CON electricCapacity: 67\n",
            "\n",
            "-MADELEINE TRONCHET: 465\n",
            "    Geo: (232.442.949, 4.887.086.907)\n",
            "\n",
            "-CITROEN CEVENNES: 6\n",
            "    Geo: (2.276.337, 4.883.875.291)\n",
            "\n",
            "-PASSY: 3\n",
            "    Geo: (22.753.247, 4.885.819.322)\n",
            "\n",
            "-PORTE DE CHAMPERRET: 6\n",
            "    Geo: (228.784.794, 4.888.630.953)\n",
            "\n",
            "-PORTE D ORLEANS: 2\n",
            "    Geo: (232.584.893, 488.205.466)\n",
            "\n",
            "-FRANCOIS 1ER: 7\n",
            "    Geo: (230.564.778, 4.886.736.859)\n",
            "\n",
            "-PORTE DE SAINT CLOUD: 3\n",
            "    Geo: (225.373.418, 488.387.931)\n",
            "\n",
            "-PYRAMIDES: 8\n",
            "    Geo: (233.318.657, 4.886.512.039)\n",
            "\n",
            "-TERNES: 3\n",
            "    Geo: (229.685.646, 4.887.815.862)\n",
            "\n",
            "-BAC MONTALEMBERT: 3\n",
            "    Geo: (232.697.691, 4.885.659.157)\n",
            "\n",
            "-PLACE VICTOR HUGO: 6\n",
            "    Geo: (228.454.072, 4.886.938.969)\n",
            "\n",
            "-ODEON: 10\n",
            "    Geo: (234.112.092, 4.885.096.233)\n",
            "\n",
            "-HOTEL DE VILLE: 27\n",
            "    Geo: (2.349.561, 4.885.658.712)\n",
            "\n",
            "-RIVOLI SEBASTOPOL: 1\n",
            "    Geo: (234.944.833, 4.885.856.491)\n",
            "\n",
            "-BOURSE: 3\n",
            "    Geo: (234.077.428, 4.886.963.785)\n",
            "\n",
            "-FAUBOURG SAINT ANTOINE: 4\n",
            "    Geo: (237.556.129, 4.885.084.205)\n",
            "\n",
            "-HAUSSMANN BERRI: 50\n",
            "    Geo: (230.862.835, 4.887.491.094)\n",
            "\n",
            "-SAINT GERMAIN DES PRES: 6\n",
            "    Geo: (233.113.402, 4.885.420.443)\n",
            "\n",
            "-CHAMPS ELYSEES PIERRE CHARRON: 9\n",
            "    Geo: (230.459.026, 4.887.021.579)\n",
            "\n",
            "-LAGRANGE MAUBERT: 14\n",
            "    Geo: (234.863.908, 488.505.418)\n",
            "\n",
            "-PATRIARCHES: 3\n",
            "    Geo: (23.508.884, 4.884.034.371)\n",
            "\n",
            "-MAUBERT COLLEGE DES BERNARDINS: 2\n",
            "    Geo: (235.091.141, 4.884.949.201)\n",
            "\n",
            "-LOBAU: 235\n",
            "    Geo: (235.340.985, 4.885.610.166)\n",
            "\n",
            "-ANVERS: 4\n",
            "    Geo: (234.401.878, 488.826.603)\n",
            "\n",
            "-MEDITERRANEE: 4\n",
            "    Geo: (237.574.679, 4.884.497.657)\n",
            "\n",
            "-MAGENTA GARE DE L EST: 335\n",
            "    Geo: (235.529.967, 488.756.675)\n",
            "\n",
            "-ETOILE FRIEDLAND: 8\n",
            "    Geo: (230.123.059, 4.887.452.022)\n",
            "\n",
            "-BORDS DE SEINE FREYSSINET (RIVE GAUCHE): 3\n",
            "    Geo: (23.730.091, 4.883.515.677)\n",
            "\n",
            "-LA TOUR MAUBOURG ORSAY: 3\n",
            "    Geo: (23.097.455, 4.886.236.723)\n",
            "\n",
            "-MAIRIE DU 17 EME: 2\n",
            "    Geo: (232.145.852, 4.888.469.716)\n",
            "\n",
            "-SAINT SULPICE (GARAGE): 42\n",
            "    Geo: (233.355.468, 488.511.911)\n",
            "\n",
            "-MAIRIE DU 14 EME: 2\n",
            "    Geo: (232.738.266, 4.883.305.564)\n",
            "\n",
            "-CHARLETY COUBERTIN: 2\n",
            "    Geo: (234.427.348, 4.881.733.316)\n",
            "\n",
            "-SEBASTOPOL: 2\n",
            "    Geo: (234.947.353, 4.886.098.926)\n",
            "\n",
            "-PORTE DE CLIGNANCOURT: 4\n",
            "    Geo: (234.452.756, 4.889.960.751)\n",
            "\n",
            "-SOUFFLOT: 6\n",
            "    Geo: (234.241.862, 4.884.708.752)\n",
            "\n",
            "-PORTE DE VERSAILLES: 4\n",
            "    Geo: (228.540.134, 4.883.364.524)\n",
            "\n",
            "-MEYERBEER (OPERA): 3\n",
            "    Geo: (233.405.582, 4.887.135.174)\n",
            "\n",
            "-BERCY SEINE VEHICULES LEGERS: 2\n",
            "    Geo: (238.083.038, 4.883.505.677)\n",
            "\n",
            "-GEORGE V: 26\n",
            "    Geo: (229.949.965, 4.887.215.419)\n",
            "\n",
            "-BIBLIOTHEQUE F. MITTERRAND (RIVE GAUCHE): 3\n",
            "    Geo: (237.732.985, 4.883.224.971)\n",
            "\n",
            "-MAIRIE DU 15 EME LECOURBE: 4\n",
            "    Geo: (229.956.743, 4.884.162.434)\n",
            "\n",
            "-VENDOME: 4\n",
            "    Geo: (233.000.068, 4.886.783.544)\n",
            "\n",
            "-SEVRES BABYLONE: 7\n",
            "    Geo: (232.495.873, 488.515.934)\n",
            "\n",
            "-PORTE D AUTEUIL: 237\n",
            "    Geo: (225.617.101, 488.465.712)\n",
            "\n",
            "-FREMICOURT: 2\n",
            "    Geo: (229.739.674, 4.884.734.233)\n",
            "\n",
            "-CHAMPS ELYSEES: 10\n",
            "    Geo: (2.305.418, 48.870.672)\n",
            "\n",
            "-VILLIERS: 2\n",
            "    Geo: (231.430.614, 4.888.185.618)\n",
            "\n",
            "-SAINT AUGUSTIN: 1\n",
            "    Geo: (232.032.135, 4.887.574.961)\n",
            "\n",
            "-UNIVERSITE DIDEROT (RIVE GAUCHE): 4\n",
            "    Geo: (237.890.733, 4.882.943.342)\n",
            "\n",
            "-MALESHERBES ANJOU: 18\n",
            "    Geo: (232.170.183, 4.887.250.966)\n",
            "\n",
            "-BASTILLE: 50\n",
            "    Geo: (236.818.245, 4.884.948.604)\n",
            "\n",
            "-LOUVRE SAMARITAINE: 6\n",
            "    Geo: (234.052.914, 4.885.948.368)\n",
            "\n",
            "-CITE DE LA MODE AUSTERLITZ (RIVE GAUCHE): 4\n",
            "    Geo: (237.111.402, 4.883.941.726)\n",
            "\n",
            "-PORTE MAILLOT: 3\n",
            "    Geo: (228.226.367, 4.887.873.861)\n",
            "\n",
            "-REUILLY DIDEROT: 2\n",
            "    Geo: (238.725.815, 4.884.654.591)\n",
            "\n",
            "-PICPUS NATION: 2\n",
            "    Geo: (239.914.441, 4.884.715.454)\n",
            "\n",
            "-ALMA GEORGE V: 8\n",
            "    Geo: (230.157.196, 4.886.532.864)\n",
            "\n",
            "-MARCEAU ETOILE: 2\n",
            "    Geo: (229.688.532, 4.887.147.207)\n",
            "\n",
            "-MONTHOLON: 3\n",
            "    Geo: (234.595.065, 4.887.687.366)\n",
            "\n",
            "-MARIGNY CHATEAU: 4\n",
            "    Geo: (243.953.727, 4.884.535.357)\n",
            "\n",
            "-LES HALLES ST EUSTACHE: 2\n",
            "    Geo: (234.596.398, 4.886.068.216)\n",
            "\n",
            "-MAINE BASCH ALESIA: 2\n",
            "    Geo: (232.571.957, 4.883.027.508)\n",
            "\n",
            "-SAINT MICHEL: 3\n",
            "    Geo: (234.332.133, 4.885.292.358)\n",
            "\n",
            "-SAINT SULPICE: 6\n",
            "    Geo: (233.355.769, 4.885.118.161)\n",
            "\n",
            "-CARDINET: 9\n",
            "    Geo: (231.692.093, 4.889.006.559)\n",
            "\n",
            "-LYON DIDEROT: 5\n",
            "    Geo: (237.216.992, 4.884.468.165)\n",
            "\n"
          ]
        }
      ]
    },
    {
      "cell_type": "markdown",
      "source": [
        "### 7. DADO UN  DISTRITO, DAME EL PRECIO DE SUBS DE MOTO Y NON SUBS DE MOTO, NOMBRE PARKING, CALLE Y RATES"
      ],
      "metadata": {
        "id": "QiL9kax6o1Bv"
      }
    },
    {
      "cell_type": "code",
      "source": [
        "q7 = prepareQuery('''\n",
        "        SELECT ?name ?tname ?nsr ?moto_30 ?moto_24 ?annualmoto ?monthlymoto\n",
        "        WHERE {\n",
        "            ?p a ns:Parking;\n",
        "              ns:isinDistrict ?d;\n",
        "              ns:isinThoroughfare ?t;\n",
        "              ns:hasName ?name;\n",
        "              ns:hasSubsRate ?sr;\n",
        "              ns:hasNonSubsRate ?nsr.\n",
        "            ?d ns:idDistrict 8.\n",
        "            ?t ns:hasName ?tname.\n",
        "            ?nsr ns:has30mnMotoRate ?moto_30;\n",
        "                 ns:has24hMotoRate ?moto_24.\n",
        "            FILTER (?moto_30 > '0.0')\n",
        "            ?sr ns:hasAnnualSubsMotoRate ?annualmoto;\n",
        "                    ns:hasMonthlySubsMotoRate ?monthlymoto.\n",
        "         }\n",
        "  ''',\n",
        "  initNs = {\"ns\": ns}\n",
        ")\n",
        "\n",
        "for s in g.query(q7):\n",
        "  print(f'Parking: {s.name}\\nThoroughfare: {s.tname}')\n",
        "  print(f'    NonSubs --->    30m Moto: {s.moto_30}           24h Moto: {s.moto_24}')\n",
        "  print(f'    Subs    --->    Annual Moto: {s.annualmoto}     Monthly Moto: {s.monthlymoto}\\n')"
      ],
      "metadata": {
        "id": "by8Py223hoPk",
        "colab": {
          "base_uri": "https://localhost:8080/"
        },
        "outputId": "c443a701-3590-4875-f97c-a76a249eff85"
      },
      "execution_count": null,
      "outputs": [
        {
          "output_type": "stream",
          "name": "stdout",
          "text": [
            "Parking: CHAMPS ELYSEES PIERRE CHARRON\n",
            "Thoroughfare: rue pierre charron\n",
            "    NonSubs --->    30m Moto: 0.95           24h Moto: 16.65\n",
            "    Subs    --->    Annual Moto: 1106.0     Monthly Moto: 106.0\n",
            "\n",
            "Parking: CONCORDE\n",
            "Thoroughfare: place de la concorde\n",
            "    NonSubs --->    30m Moto: 0.9           24h Moto: 15.75\n",
            "    Subs    --->    Annual Moto: 906.0     Monthly Moto: 87.0\n",
            "\n",
            "Parking: HAUSSMANN BERRI\n",
            "Thoroughfare: boulevard haussmann\n",
            "    NonSubs --->    30m Moto: 0.8           24h Moto: 13.5\n",
            "    Subs    --->    Annual Moto: 899.5     Monthly Moto: 89.0\n",
            "\n",
            "Parking: MADELEINE TRONCHET\n",
            "Thoroughfare: place de la madeleine\n",
            "    NonSubs --->    30m Moto: 0.8           24h Moto: 14.4\n",
            "    Subs    --->    Annual Moto: 1020.0     Monthly Moto: 102.0\n",
            "\n",
            "Parking: FRANCOIS 1ER\n",
            "Thoroughfare: rue francois 1er\n",
            "    NonSubs --->    30m Moto: 0.8           24h Moto: 13.5\n",
            "    Subs    --->    Annual Moto: 1050.0     Monthly Moto: 105.0\n",
            "\n",
            "Parking: SAINT AUGUSTIN\n",
            "Thoroughfare: rue de laborde\n",
            "    NonSubs --->    30m Moto: 0.8           24h Moto: 14.4\n",
            "    Subs    --->    Annual Moto: 1020.0     Monthly Moto: 102.0\n",
            "\n",
            "Parking: MALESHERBES ANJOU\n",
            "Thoroughfare: boulevard malesherbes\n",
            "    NonSubs --->    30m Moto: 0.8           24h Moto: 14.4\n",
            "    Subs    --->    Annual Moto: 1090.0     Monthly Moto: 109.0\n",
            "\n",
            "Parking: GEORGE V\n",
            "Thoroughfare: avenue des champs elysees\n",
            "    NonSubs --->    30m Moto: 0.9           24h Moto: 16.2\n",
            "    Subs    --->    Annual Moto: 982.0     Monthly Moto: 94.0\n",
            "\n",
            "Parking: ROND POINT DES CHAMPS ELYSEES\n",
            "Thoroughfare: rond point des champs elysees marcel dassault\n",
            "    NonSubs --->    30m Moto: 0.95           24h Moto: 16.65\n",
            "    Subs    --->    Annual Moto: 1022.0     Monthly Moto: 98.0\n",
            "\n"
          ]
        }
      ]
    },
    {
      "cell_type": "markdown",
      "source": [
        "### 8. HALLAR EL NOMBRE DE TODAS LAS CALLES EN LAS QUE HAYA PARKING CON APARCAMIENTO PARA BICICLETAS\n",
        "\n",
        "(Tarda un poco en ejecutar)"
      ],
      "metadata": {
        "id": "v2-Q6pGAve9M"
      }
    },
    {
      "cell_type": "code",
      "source": [
        "q8 = prepareQuery('''\n",
        "    SELECT ?tname\n",
        "    WHERE {\n",
        "       ?t a ns2:Thoroughfare;\n",
        "          ns2:hasName ?tname.\n",
        "       ?p a ns:Parking;\n",
        "          ns:isinThoroughfare ?pt;\n",
        "          ns:hasBclCapacity ?bc.\n",
        "       ?pt ns:hasName ?ptname.\n",
        "       FILTER(lcase(?tname) = lcase(?ptname) && ?bc > 0)\n",
        "       } LIMIT 100\n",
        "''',\n",
        "initNs={\"ns2\": ns2, 'ns':ns})\n",
        "for s in g.query(q8):\n",
        "    print(f'- {s.tname}')"
      ],
      "metadata": {
        "id": "1LuC7I_Ao7hQ",
        "colab": {
          "base_uri": "https://localhost:8080/"
        },
        "outputId": "10b2d90d-850e-48f9-e51a-f1463b5186d2"
      },
      "execution_count": 10,
      "outputs": [
        {
          "output_type": "stream",
          "name": "stdout",
          "text": [
            "- PLACE JOFFRE\n",
            "- PLACE DE LA MADELEINE\n",
            "- RUE WATT\n",
            "- RUE LEBLANC\n",
            "- RUE DE PASSY\n",
            "- RUE NUNGESSER ET COLI\n",
            "- AVENUE DE LA PORTE DE CHAMPERRET\n",
            "- RUE DE CONSTANTINE\n",
            "- RUE DES PYRAMIDES\n",
            "- AVENUE VICTOR HUGO\n",
            "- AVENUE DAUMESNIL\n",
            "- BOULEVARD HAUSSMANN\n",
            "- AVENUE FOCH\n",
            "- RUE VAN GOGH\n",
            "- RUE LAGRANGE\n",
            "- RUE DAUBENTON\n",
            "- RUE DE LOBAU\n",
            "- RUE DE CHALON\n",
            "- SQUARE ALBAN SATRAGNE\n",
            "- AVENUE DE FRIEDLAND\n",
            "- RUE ABEL GANCE\n",
            "- RUE DES BATIGNOLLES\n",
            "- AVENUE PIERRE DE COUBERTIN\n",
            "- RUE AMBROISE PARE\n",
            "- RUE DE RIVOLI\n",
            "- AVENUE DE LA PORTE DE CLIGNANCOURT\n",
            "- RUE SOUFFLOT\n",
            "- BOULEVARD VICTOR\n",
            "- AVENUE DES CHAMPS ELYSEES\n",
            "- RUE EMILE DURKHEIM\n",
            "- RUE LECOURBE\n",
            "- RUE DE BABYLONE\n",
            "- AVENUE DU GENERAL SARRAIL\n",
            "- RUE FREMICOURT\n",
            "- AVENUE DE VILLIERS\n",
            "- RUE DE LABORDE\n",
            "- RUE THOMAS MANN\n",
            "- BOULEVARD MALESHERBES\n",
            "- BOULEVARD DE LA BASTILLE\n",
            "- PLACE DU LOUVRE\n",
            "- RUE DE REUILLY\n",
            "- RUE DES PETITS HOTELS\n",
            "- RUE MAYRAN\n",
            "- RUE DES HALLES\n",
            "- AVENUE DU MAINE\n",
            "- RUE CARDINET\n"
          ]
        }
      ]
    }
  ]
}
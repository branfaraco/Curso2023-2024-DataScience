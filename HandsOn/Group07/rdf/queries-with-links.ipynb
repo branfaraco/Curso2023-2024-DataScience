{
 "cells": [
  {
   "cell_type": "code",
   "execution_count": 3,
   "metadata": {},
   "outputs": [],
   "source": [
    "from rdflib import Graph, Namespace\n",
    "from rdflib.namespace import RDF, FOAF"
   ]
  },
  {
   "cell_type": "code",
   "execution_count": 4,
   "metadata": {},
   "outputs": [
    {
     "data": {
      "text/plain": [
       "<Graph identifier=Neb7dedd7aa5d42a6970ea7a31be3c38e (<class 'rdflib.graph.Graph'>)>"
      ]
     },
     "execution_count": 4,
     "metadata": {},
     "output_type": "execute_result"
    }
   ],
   "source": [
    "file_path = \"result-with-links.ttl\"\n",
    "\n",
    "G = Graph()\n",
    "G.parse(file_path, format=\"turtle\")"
   ]
  },
  {
   "cell_type": "code",
   "execution_count": 5,
   "metadata": {},
   "outputs": [],
   "source": [
    "ns = Namespace(\"https://datos.comunidad.madrid/centros_educativos/ontology#\")\n",
    "owl = Namespace(\"http://www.w3.org/2002/07/owl#\")\n",
    "geo = Namespace(\"http://www.w3.org/2003/01/geo/wgs84_pos#\")"
   ]
  },
  {
   "cell_type": "code",
   "execution_count": 6,
   "metadata": {},
   "outputs": [
    {
     "name": "stdout",
     "output_type": "stream",
     "text": [
      "VIRGEN DE LA PROVIDENCIA,  DESC: ESCUELA INFANTIL PRIVADA,  MUN_ID: 10, https://wikidata.org/entity/Q947926\n",
      "MONTESSORI SCHOOL LOS FRESNOS (BRITAN.),  DESC: CENTRO DOCENTE EXTRANJERO EN ESPAÑA,  MUN_ID: 10, https://wikidata.org/entity/Q947926\n",
      "EL BOSQUE DE PULGARCITO,  DESC: ESCUELA INFANTIL PRIVADA,  MUN_ID: 10, https://wikidata.org/entity/Q947926\n"
     ]
    }
   ],
   "source": [
    "# Buscar centros educativos privados en el municipio Alpedrete y mostrar nombre del centro, su descripción, codigo del municipio y link del municipio\n",
    "\n",
    "qres = G.query(\n",
    "        \"\"\"SELECT DISTINCT ?Name ?Desc ?MunID ?LinkMun\n",
    "            WHERE {\n",
    "                ?ECenter rdf:type ns:EducativeCenter;\n",
    "                    foaf:name ?Name;\n",
    "                    ns:hasOwnership \"PRIVADO\";\n",
    "                    ns:hasDescription ?Desc;\n",
    "                    ns:hasAddress ?Address.\n",
    "                ?Address ns:isInMunicipality ?Mun.\n",
    "                ?Mun foaf:name \"Alpedrete\";\n",
    "                    ns:hasid ?MunID;\n",
    "                    owl:sameAs ?LinkMun.\n",
    "           }\n",
    "        \"\"\",\n",
    "        initNs = {\"rdf\": RDF, \"ns\": ns, \"owl\": owl})\n",
    "\n",
    "for row in qres:\n",
    "    print (\"%s,  DESC: %s,  MUN_ID: %s, %s\" % row)\n"
   ]
  },
  {
   "cell_type": "code",
   "execution_count": 7,
   "metadata": {},
   "outputs": [
    {
     "name": "stdout",
     "output_type": "stream",
     "text": [
      "https://datos.comunidad.madrid/centros_educativos/resource/EducativeCenter/28033552: CALLE DEL DESARROLLO, 50, 28938, (-3.86512299, 40.31283644) - Móstoles (https://wikidata.org/entity/Q187826)\n",
      "https://datos.comunidad.madrid/centros_educativos/resource/EducativeCenter/28067771: CALLE DE LOS ARADOS, 10, 28944, (-3.79728386, 40.27848533) - Fuenlabrada (https://wikidata.org/entity/Q54902)\n"
     ]
    }
   ],
   "source": [
    "\n",
    "# Buscar la dirección (incluyendo longitud y latitud) y el link del municipio de los centros con nombre \"MANUELA MALASAÑA\"\n",
    "\n",
    "qres = G.query(\n",
    "          \"\"\"SELECT DISTINCT ?ECenter ?CompAddress ?Long ?Lat ?MunName ?MunLink\n",
    "               WHERE {\n",
    "                    ?ECenter rdf:type ns:EducativeCenter;\n",
    "                         ns:hasAddress ?Address;\n",
    "                         foaf:name \"MANUELA MALASAÑA\".\n",
    "                    ?Address ns:hasCompleteAddress ?CompAddress;\n",
    "                         geo:long ?Long;\n",
    "                         geo:lat ?Lat;\n",
    "                         ns:isInMunicipality ?Mun.\n",
    "                    ?Mun foaf:name ?MunName;\n",
    "                         owl:sameAs ?MunLink                   \n",
    "                    }\n",
    "          \"\"\", \n",
    "          initNs = {\"rdf\": RDF,\"ns\": ns, \"foaf\": FOAF, \"owl\": owl, \"geo\": geo})\n",
    "\n",
    "for row in qres:\n",
    "    print (\"%s: %s, (%s, %s) - %s (%s)\" % row)\n"
   ]
  },
  {
   "cell_type": "code",
   "execution_count": 8,
   "metadata": {},
   "outputs": [
    {
     "name": "stdout",
     "output_type": "stream",
     "text": [
      "ANTONIO MACHADO: https://wikidata.org/entity/Q243771  (PÚBLICO)\n",
      "MIGUEL HERNANDEZ: https://wikidata.org/entity/Q332088  (PÚBLICO)\n",
      "TETUAN: https://wikidata.org/entity/Q185157  (PÚBLICO)\n",
      "LORETO: https://wikidata.org/entity/Q124110  (PÚBLICO)\n",
      "SERRACINES: https://wikidata.org/entity/Q6125925  (PÚBLICO)\n",
      "MANUEL DE FALLA: https://wikidata.org/entity/Q193283  (PÚBLICO)\n",
      "VALDARACETE: https://wikidata.org/entity/Q1647098  (PÚBLICO)\n",
      "NUESTRA SEÑORA DEL VAL: https://wikidata.org/entity/Q60819508  (PÚBLICO)\n",
      "MANUEL NUÑEZ DE ARENAS: https://wikidata.org/entity/Q9028010  (PÚBLICO)\n",
      "BACHILLER ALONSO LOPEZ: https://wikidata.org/entity/Q86342858  (PÚBLICO)\n",
      "ANGEL GONZALEZ: https://wikidata.org/entity/Q715118  (PÚBLICO)\n",
      "NAVALAFUENTE: https://wikidata.org/entity/Q55486  (PÚBLICO)\n",
      "GRIÑON: https://wikidata.org/entity/Q373531  (PÚBLICO)\n",
      "KIKA: https://wikidata.org/entity/Q256456  (PRIVADO)\n",
      "LEGAZPI: https://wikidata.org/entity/Q1696  (PÚBLICO)\n"
     ]
    }
   ],
   "source": [
    "# Buscar nombres de centros educativos que tienen link en Wikidata y mostrar su Ownership\n",
    "\n",
    "qres = G.query(\n",
    "        \"\"\"SELECT DISTINCT ?Name ?Wiki ?Ownership\n",
    "            WHERE {\n",
    "                ?ECenter rdf:type ns:EducativeCenter;\n",
    "                    foaf:name ?Name;\n",
    "                    ns:hasOwnership ?Ownership;\n",
    "                    ns:refersTo ?OtherEntity.\n",
    "                ?OtherEntity owl:sameAs ?Wiki.\n",
    "            } LIMIT 15\n",
    "        \"\"\",\n",
    "        initNs = {\"rdf\": RDF,\"ns\": ns, \"foaf\": FOAF, \"owl\": owl})\n",
    "\n",
    "for row in qres:\n",
    "    print (\"%s: %s  (%s)\" % row)"
   ]
  },
  {
   "cell_type": "code",
   "execution_count": 9,
   "metadata": {},
   "outputs": [
    {
     "name": "stdout",
     "output_type": "stream",
     "text": [
      "ID: 28031506, Link: https://wikidata.org/entity/Q243771, Web: http://www.educa.madrid.org/cp.machado.majadahonda\n",
      "ID: 28030381, Link: https://wikidata.org/entity/Q243771, Web: http://www.educa.madrid.org/cp.machado.leganes\n",
      "ID: 28033621, Link: https://wikidata.org/entity/Q243771, Web: http://www.educa.madrid.org/cp.machado.alcala\n",
      "ID: 28000601, Link: https://wikidata.org/entity/Q243771, Web: http://www.educa.madrid.org/cp.machado.alcobendas\n",
      "ID: 28046662, Link: https://wikidata.org/entity/Q243771, Web: http://www.educa.madrid.org/em.machado.madrid\n",
      "ID: 28005039, Link: https://wikidata.org/entity/Q243771, Web: http://www.educa.madrid.org/cp.machado.madrid\n"
     ]
    }
   ],
   "source": [
    "# Buscar el ID de los centros cuyo link corresponde a Antonio Machado y mostrar sus webs\n",
    "\n",
    "qres = G.query(\n",
    "        \"\"\"SELECT DISTINCT ?ID ?Wiki ?Web\n",
    "            WHERE {\n",
    "                ?ECenter rdf:type ns:EducativeCenter;\n",
    "                    ns:hasid ?ID;\n",
    "                    ns:hasContact ?Contact;\n",
    "                    ns:refersTo ?OtherEntity.\n",
    "                ?OtherEntity owl:sameAs ?Wiki;\n",
    "                    foaf:name \"Antonio Machado\".\n",
    "                ?Contact ns:hasWebsite ?Web\n",
    "            }\n",
    "        \"\"\",\n",
    "        initNs = {\"rdf\": RDF,\"ns\": ns, \"foaf\": FOAF, \"owl\": owl})\n",
    "\n",
    "for row in qres:\n",
    "    print (\"ID: %s, Link: %s, Web: %s\" % row)"
   ]
  }
 ],
 "metadata": {
  "kernelspec": {
   "display_name": "Python 3",
   "language": "python",
   "name": "python3"
  },
  "language_info": {
   "codemirror_mode": {
    "name": "ipython",
    "version": 3
   },
   "file_extension": ".py",
   "mimetype": "text/x-python",
   "name": "python",
   "nbconvert_exporter": "python",
   "pygments_lexer": "ipython3",
   "version": "3.11.0"
  }
 },
 "nbformat": 4,
 "nbformat_minor": 2
}
